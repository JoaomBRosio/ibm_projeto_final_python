{
 "cells": [
  {
   "cell_type": "markdown",
   "metadata": {},
   "source": [
    "# API RESTful em Python usando Flask e Flask-RESTful (app2.py)"
   ]
  },
  {
   "cell_type": "markdown",
   "metadata": {},
   "source": [
    "**Imports**"
   ]
  },
  {
   "cell_type": "code",
   "execution_count": 18,
   "metadata": {},
   "outputs": [],
   "source": [
    "from flask import Flask, request, jsonify\n",
    "from flask_restful import Api, Resource\n",
    "from sqlalchemy import create_engine, Column, Integer, String, Float, Boolean\n",
    "from sqlalchemy.ext.declarative import declarative_base\n",
    "from sqlalchemy.orm import sessionmaker\n"
   ]
  },
  {
   "cell_type": "markdown",
   "metadata": {},
   "source": [
    "**Configuração do Flask e Banco de Dados**<br>"
   ]
  },
  {
   "cell_type": "code",
   "execution_count": null,
   "metadata": {},
   "outputs": [],
   "source": [
    "app = Flask(__name__)\n",
    "api = Api(app)\n",
    "\n",
    "DATABASE_URL = \"sqlite:///projeto_final_python/bd/clientes.db\"\n",
    "engine = create_engine(DATABASE_URL)\n",
    "Base = declarative_base()\n"
   ]
  },
  {
   "cell_type": "markdown",
   "metadata": {},
   "source": [
    "\n",
    "**app e api:** <br>Criam a aplicação Flask e configuram o suporte para APIs RESTful.<br><br>\n",
    "**DATABASE_URL:** <br>Define o banco de dados SQLite.<br><br>\n",
    "**create_engine:** <br>Conecta a aplicação ao banco.<br><br>\n",
    "**declarative_base:** <br>Base para a definição dos modelos ORM.<br><br>"
   ]
  },
  {
   "cell_type": "markdown",
   "metadata": {},
   "source": [
    "**Definindo meu Cliente**"
   ]
  },
  {
   "cell_type": "code",
   "execution_count": 20,
   "metadata": {},
   "outputs": [],
   "source": [
    "class ClienteModel(Base):\n",
    "    __tablename__ = 'clientes'\n",
    "    id = Column(Integer, primary_key=True)\n",
    "    nome = Column(String)\n",
    "    telefone = Column(Integer)\n",
    "    correntista = Column(Boolean)\n",
    "    score_credito = Column(Float)\n",
    "    saldo_cc = Column(Float)\n"
   ]
  },
  {
   "cell_type": "markdown",
   "metadata": {},
   "source": [
    "Define a tabela clientes no banco de dados:<br>\n",
    "\n",
    "id: Chave primária.<br>\n",
    "nome, telefone, correntista, score_credito, saldo_cc: Colunas com tipos específicos.<br><br>"
   ]
  },
  {
   "cell_type": "markdown",
   "metadata": {},
   "source": [
    "Essa foi a breve explicação do projeto."
   ]
  },
  {
   "cell_type": "markdown",
   "metadata": {},
   "source": [
    "### Resumo<br>\n",
    "O código define uma API RESTful que permite criar, listar, atualizar e deletar clientes.<br>\n",
    "Utiliza Flask para a API e SQLAlchemy para o banco de dados.<br>\n",
    "Abstrai operações no banco usando ORM.<br>"
   ]
  }
 ],
 "metadata": {
  "kernelspec": {
   "display_name": "Python 3",
   "language": "python",
   "name": "python3"
  },
  "language_info": {
   "codemirror_mode": {
    "name": "ipython",
    "version": 3
   },
   "file_extension": ".py",
   "mimetype": "text/x-python",
   "name": "python",
   "nbconvert_exporter": "python",
   "pygments_lexer": "ipython3",
   "version": "3.13.1"
  }
 },
 "nbformat": 4,
 "nbformat_minor": 2
}
